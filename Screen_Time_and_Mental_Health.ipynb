{
 "cells": [
  {
   "cell_type": "markdown",
   "metadata": {},
   "source": [
    "<h1>Screen time and mental health</h1>"
   ]
  },
  {
   "cell_type": "markdown",
   "metadata": {},
   "source": [
    "<h3>(Struktur rekken)Data Description, Analysis, Results, Conclusion</h3>"
   ]
  },
  {
   "cell_type": "markdown",
   "metadata": {},
   "source": [
    "##Intorduction"
   ]
  },
  {
   "cell_type": "markdown",
   "metadata": {},
   "source": [
    "##Data collection and description"
   ]
  },
  {
   "cell_type": "markdown",
   "metadata": {},
   "source": [
    "##Load necessary libraries"
   ]
  },
  {
   "cell_type": "code",
   "execution_count": 13,
   "metadata": {},
   "outputs": [],
   "source": [
    "import pandas as pd"
   ]
  },
  {
   "cell_type": "code",
   "execution_count": 14,
   "metadata": {},
   "outputs": [
    {
     "data": {
      "text/html": [
       "<div>\n",
       "<style scoped>\n",
       "    .dataframe tbody tr th:only-of-type {\n",
       "        vertical-align: middle;\n",
       "    }\n",
       "\n",
       "    .dataframe tbody tr th {\n",
       "        vertical-align: top;\n",
       "    }\n",
       "\n",
       "    .dataframe thead th {\n",
       "        text-align: right;\n",
       "    }\n",
       "</style>\n",
       "<table border=\"1\" class=\"dataframe\">\n",
       "  <thead>\n",
       "    <tr style=\"text-align: right;\">\n",
       "      <th></th>\n",
       "      <th>User_ID</th>\n",
       "      <th>Age</th>\n",
       "      <th>Gender</th>\n",
       "      <th>Technology_Usage_Hours</th>\n",
       "      <th>Social_Media_Usage_Hours</th>\n",
       "      <th>Gaming_Hours</th>\n",
       "      <th>Screen_Time_Hours</th>\n",
       "      <th>Mental_Health_Status</th>\n",
       "      <th>Stress_Level</th>\n",
       "      <th>Sleep_Hours</th>\n",
       "      <th>Physical_Activity_Hours</th>\n",
       "      <th>Support_Systems_Access</th>\n",
       "      <th>Work_Environment_Impact</th>\n",
       "      <th>Online_Support_Usage</th>\n",
       "    </tr>\n",
       "  </thead>\n",
       "  <tbody>\n",
       "    <tr>\n",
       "      <th>0</th>\n",
       "      <td>USER-00001</td>\n",
       "      <td>23</td>\n",
       "      <td>Female</td>\n",
       "      <td>6.57</td>\n",
       "      <td>6.00</td>\n",
       "      <td>0.68</td>\n",
       "      <td>12.36</td>\n",
       "      <td>Good</td>\n",
       "      <td>Low</td>\n",
       "      <td>8.01</td>\n",
       "      <td>6.71</td>\n",
       "      <td>No</td>\n",
       "      <td>Negative</td>\n",
       "      <td>Yes</td>\n",
       "    </tr>\n",
       "    <tr>\n",
       "      <th>1</th>\n",
       "      <td>USER-00002</td>\n",
       "      <td>21</td>\n",
       "      <td>Male</td>\n",
       "      <td>3.01</td>\n",
       "      <td>2.57</td>\n",
       "      <td>3.74</td>\n",
       "      <td>7.61</td>\n",
       "      <td>Poor</td>\n",
       "      <td>High</td>\n",
       "      <td>7.28</td>\n",
       "      <td>5.88</td>\n",
       "      <td>Yes</td>\n",
       "      <td>Positive</td>\n",
       "      <td>No</td>\n",
       "    </tr>\n",
       "    <tr>\n",
       "      <th>2</th>\n",
       "      <td>USER-00003</td>\n",
       "      <td>51</td>\n",
       "      <td>Male</td>\n",
       "      <td>3.04</td>\n",
       "      <td>6.14</td>\n",
       "      <td>1.26</td>\n",
       "      <td>3.16</td>\n",
       "      <td>Fair</td>\n",
       "      <td>High</td>\n",
       "      <td>8.04</td>\n",
       "      <td>9.81</td>\n",
       "      <td>No</td>\n",
       "      <td>Negative</td>\n",
       "      <td>No</td>\n",
       "    </tr>\n",
       "    <tr>\n",
       "      <th>3</th>\n",
       "      <td>USER-00004</td>\n",
       "      <td>25</td>\n",
       "      <td>Female</td>\n",
       "      <td>3.84</td>\n",
       "      <td>4.48</td>\n",
       "      <td>2.59</td>\n",
       "      <td>13.08</td>\n",
       "      <td>Excellent</td>\n",
       "      <td>Medium</td>\n",
       "      <td>5.62</td>\n",
       "      <td>5.28</td>\n",
       "      <td>Yes</td>\n",
       "      <td>Negative</td>\n",
       "      <td>Yes</td>\n",
       "    </tr>\n",
       "    <tr>\n",
       "      <th>4</th>\n",
       "      <td>USER-00005</td>\n",
       "      <td>53</td>\n",
       "      <td>Male</td>\n",
       "      <td>1.20</td>\n",
       "      <td>0.56</td>\n",
       "      <td>0.29</td>\n",
       "      <td>12.63</td>\n",
       "      <td>Good</td>\n",
       "      <td>Low</td>\n",
       "      <td>5.55</td>\n",
       "      <td>4.00</td>\n",
       "      <td>No</td>\n",
       "      <td>Positive</td>\n",
       "      <td>Yes</td>\n",
       "    </tr>\n",
       "  </tbody>\n",
       "</table>\n",
       "</div>"
      ],
      "text/plain": [
       "      User_ID  Age  Gender  Technology_Usage_Hours  Social_Media_Usage_Hours  \\\n",
       "0  USER-00001   23  Female                    6.57                      6.00   \n",
       "1  USER-00002   21    Male                    3.01                      2.57   \n",
       "2  USER-00003   51    Male                    3.04                      6.14   \n",
       "3  USER-00004   25  Female                    3.84                      4.48   \n",
       "4  USER-00005   53    Male                    1.20                      0.56   \n",
       "\n",
       "   Gaming_Hours  Screen_Time_Hours Mental_Health_Status Stress_Level  \\\n",
       "0          0.68              12.36                 Good          Low   \n",
       "1          3.74               7.61                 Poor         High   \n",
       "2          1.26               3.16                 Fair         High   \n",
       "3          2.59              13.08            Excellent       Medium   \n",
       "4          0.29              12.63                 Good          Low   \n",
       "\n",
       "   Sleep_Hours  Physical_Activity_Hours Support_Systems_Access  \\\n",
       "0         8.01                     6.71                     No   \n",
       "1         7.28                     5.88                    Yes   \n",
       "2         8.04                     9.81                     No   \n",
       "3         5.62                     5.28                    Yes   \n",
       "4         5.55                     4.00                     No   \n",
       "\n",
       "  Work_Environment_Impact Online_Support_Usage  \n",
       "0                Negative                  Yes  \n",
       "1                Positive                   No  \n",
       "2                Negative                   No  \n",
       "3                Negative                  Yes  \n",
       "4                Positive                  Yes  "
      ]
     },
     "execution_count": 14,
     "metadata": {},
     "output_type": "execute_result"
    }
   ],
   "source": [
    "# Load the dataset\n",
    "df = pd.read_csv('mental_health_and_technology_usage_2024.csv')\n",
    "df.head()  # Display the first few rows of the dataset"
   ]
  },
  {
   "cell_type": "code",
   "execution_count": null,
   "metadata": {},
   "outputs": [],
   "source": [
    "import seaborn as sns\n",
    "import matplotlib.pyplot as plt"
   ]
  },
  {
   "cell_type": "markdown",
   "metadata": {},
   "source": [
    "#Checking missing values"
   ]
  },
  {
   "cell_type": "code",
   "execution_count": 16,
   "metadata": {},
   "outputs": [
    {
     "name": "stdout",
     "output_type": "stream",
     "text": [
      "<class 'pandas.core.frame.DataFrame'>\n",
      "RangeIndex: 10000 entries, 0 to 9999\n",
      "Data columns (total 14 columns):\n",
      " #   Column                    Non-Null Count  Dtype  \n",
      "---  ------                    --------------  -----  \n",
      " 0   User_ID                   10000 non-null  object \n",
      " 1   Age                       10000 non-null  int64  \n",
      " 2   Gender                    10000 non-null  object \n",
      " 3   Technology_Usage_Hours    10000 non-null  float64\n",
      " 4   Social_Media_Usage_Hours  10000 non-null  float64\n",
      " 5   Gaming_Hours              10000 non-null  float64\n",
      " 6   Screen_Time_Hours         10000 non-null  float64\n",
      " 7   Mental_Health_Status      10000 non-null  object \n",
      " 8   Stress_Level              10000 non-null  object \n",
      " 9   Sleep_Hours               10000 non-null  float64\n",
      " 10  Physical_Activity_Hours   10000 non-null  float64\n",
      " 11  Support_Systems_Access    10000 non-null  object \n",
      " 12  Work_Environment_Impact   10000 non-null  object \n",
      " 13  Online_Support_Usage      10000 non-null  object \n",
      "dtypes: float64(6), int64(1), object(7)\n",
      "memory usage: 1.1+ MB\n"
     ]
    }
   ],
   "source": [
    "# Check for null values in the entire DataFrame\n",
    "df.isnull().sum()\n",
    "# Get a concise summary of the DataFrame, including null counts\n",
    "df.info()"
   ]
  },
  {
   "cell_type": "code",
   "execution_count": 22,
   "metadata": {},
   "outputs": [
    {
     "name": "stderr",
     "output_type": "stream",
     "text": [
      "C:\\Users\\erdem\\AppData\\Local\\Temp\\ipykernel_46672\\1833537714.py:2: FutureWarning: DataFrame.interpolate with object dtype is deprecated and will raise in a future version. Call obj.infer_objects(copy=False) before interpolating instead.\n",
      "  df_interpolated = df.interpolate()\n"
     ]
    },
    {
     "data": {
      "text/html": [
       "<div>\n",
       "<style scoped>\n",
       "    .dataframe tbody tr th:only-of-type {\n",
       "        vertical-align: middle;\n",
       "    }\n",
       "\n",
       "    .dataframe tbody tr th {\n",
       "        vertical-align: top;\n",
       "    }\n",
       "\n",
       "    .dataframe thead th {\n",
       "        text-align: right;\n",
       "    }\n",
       "</style>\n",
       "<table border=\"1\" class=\"dataframe\">\n",
       "  <thead>\n",
       "    <tr style=\"text-align: right;\">\n",
       "      <th></th>\n",
       "      <th>User_ID</th>\n",
       "      <th>Age</th>\n",
       "      <th>Gender</th>\n",
       "      <th>Technology_Usage_Hours</th>\n",
       "      <th>Social_Media_Usage_Hours</th>\n",
       "      <th>Gaming_Hours</th>\n",
       "      <th>Screen_Time_Hours</th>\n",
       "      <th>Mental_Health_Status</th>\n",
       "      <th>Stress_Level</th>\n",
       "      <th>Sleep_Hours</th>\n",
       "      <th>Physical_Activity_Hours</th>\n",
       "      <th>Support_Systems_Access</th>\n",
       "      <th>Work_Environment_Impact</th>\n",
       "      <th>Online_Support_Usage</th>\n",
       "    </tr>\n",
       "  </thead>\n",
       "  <tbody>\n",
       "    <tr>\n",
       "      <th>0</th>\n",
       "      <td>USER-00001</td>\n",
       "      <td>23</td>\n",
       "      <td>Female</td>\n",
       "      <td>6.57</td>\n",
       "      <td>6.00</td>\n",
       "      <td>0.68</td>\n",
       "      <td>12.36</td>\n",
       "      <td>Good</td>\n",
       "      <td>Low</td>\n",
       "      <td>8.01</td>\n",
       "      <td>6.71</td>\n",
       "      <td>No</td>\n",
       "      <td>Negative</td>\n",
       "      <td>Yes</td>\n",
       "    </tr>\n",
       "    <tr>\n",
       "      <th>1</th>\n",
       "      <td>USER-00002</td>\n",
       "      <td>21</td>\n",
       "      <td>Male</td>\n",
       "      <td>3.01</td>\n",
       "      <td>2.57</td>\n",
       "      <td>3.74</td>\n",
       "      <td>7.61</td>\n",
       "      <td>Poor</td>\n",
       "      <td>High</td>\n",
       "      <td>7.28</td>\n",
       "      <td>5.88</td>\n",
       "      <td>Yes</td>\n",
       "      <td>Positive</td>\n",
       "      <td>No</td>\n",
       "    </tr>\n",
       "    <tr>\n",
       "      <th>2</th>\n",
       "      <td>USER-00003</td>\n",
       "      <td>51</td>\n",
       "      <td>Male</td>\n",
       "      <td>3.04</td>\n",
       "      <td>6.14</td>\n",
       "      <td>1.26</td>\n",
       "      <td>3.16</td>\n",
       "      <td>Fair</td>\n",
       "      <td>High</td>\n",
       "      <td>8.04</td>\n",
       "      <td>9.81</td>\n",
       "      <td>No</td>\n",
       "      <td>Negative</td>\n",
       "      <td>No</td>\n",
       "    </tr>\n",
       "    <tr>\n",
       "      <th>3</th>\n",
       "      <td>USER-00004</td>\n",
       "      <td>25</td>\n",
       "      <td>Female</td>\n",
       "      <td>3.84</td>\n",
       "      <td>4.48</td>\n",
       "      <td>2.59</td>\n",
       "      <td>13.08</td>\n",
       "      <td>Excellent</td>\n",
       "      <td>Medium</td>\n",
       "      <td>5.62</td>\n",
       "      <td>5.28</td>\n",
       "      <td>Yes</td>\n",
       "      <td>Negative</td>\n",
       "      <td>Yes</td>\n",
       "    </tr>\n",
       "    <tr>\n",
       "      <th>4</th>\n",
       "      <td>USER-00005</td>\n",
       "      <td>53</td>\n",
       "      <td>Male</td>\n",
       "      <td>1.20</td>\n",
       "      <td>0.56</td>\n",
       "      <td>0.29</td>\n",
       "      <td>12.63</td>\n",
       "      <td>Good</td>\n",
       "      <td>Low</td>\n",
       "      <td>5.55</td>\n",
       "      <td>4.00</td>\n",
       "      <td>No</td>\n",
       "      <td>Positive</td>\n",
       "      <td>Yes</td>\n",
       "    </tr>\n",
       "  </tbody>\n",
       "</table>\n",
       "</div>"
      ],
      "text/plain": [
       "      User_ID  Age  Gender  Technology_Usage_Hours  Social_Media_Usage_Hours  \\\n",
       "0  USER-00001   23  Female                    6.57                      6.00   \n",
       "1  USER-00002   21    Male                    3.01                      2.57   \n",
       "2  USER-00003   51    Male                    3.04                      6.14   \n",
       "3  USER-00004   25  Female                    3.84                      4.48   \n",
       "4  USER-00005   53    Male                    1.20                      0.56   \n",
       "\n",
       "   Gaming_Hours  Screen_Time_Hours Mental_Health_Status Stress_Level  \\\n",
       "0          0.68              12.36                 Good          Low   \n",
       "1          3.74               7.61                 Poor         High   \n",
       "2          1.26               3.16                 Fair         High   \n",
       "3          2.59              13.08            Excellent       Medium   \n",
       "4          0.29              12.63                 Good          Low   \n",
       "\n",
       "   Sleep_Hours  Physical_Activity_Hours Support_Systems_Access  \\\n",
       "0         8.01                     6.71                     No   \n",
       "1         7.28                     5.88                    Yes   \n",
       "2         8.04                     9.81                     No   \n",
       "3         5.62                     5.28                    Yes   \n",
       "4         5.55                     4.00                     No   \n",
       "\n",
       "  Work_Environment_Impact Online_Support_Usage  \n",
       "0                Negative                  Yes  \n",
       "1                Positive                   No  \n",
       "2                Negative                   No  \n",
       "3                Negative                  Yes  \n",
       "4                Positive                  Yes  "
      ]
     },
     "execution_count": 22,
     "metadata": {},
     "output_type": "execute_result"
    }
   ],
   "source": [
    "# Interpolate null values linearly\n",
    "df_interpolated = df.interpolate()\n",
    "df.isnull().sum()\n",
    "df.head()"
   ]
  },
  {
   "cell_type": "markdown",
   "metadata": {},
   "source": [
    "##Visualistation and Ouput"
   ]
  },
  {
   "cell_type": "markdown",
   "metadata": {},
   "source": [
    "##Data analysis"
   ]
  },
  {
   "cell_type": "markdown",
   "metadata": {},
   "source": [
    "##Conclusion and recommendations"
   ]
  },
  {
   "cell_type": "markdown",
   "metadata": {},
   "source": []
  }
 ],
 "metadata": {
  "kernelspec": {
   "display_name": "base",
   "language": "python",
   "name": "python3"
  },
  "language_info": {
   "codemirror_mode": {
    "name": "ipython",
    "version": 3
   },
   "file_extension": ".py",
   "mimetype": "text/x-python",
   "name": "python",
   "nbconvert_exporter": "python",
   "pygments_lexer": "ipython3",
   "version": "3.12.3"
  }
 },
 "nbformat": 4,
 "nbformat_minor": 2
}
