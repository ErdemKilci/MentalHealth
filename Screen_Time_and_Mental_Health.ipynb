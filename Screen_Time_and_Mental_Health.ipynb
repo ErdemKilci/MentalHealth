{
 "cells": [
  {
   "cell_type": "markdown",
   "metadata": {},
   "source": [
    "<h1>Screen time and mental health</h1>"
   ]
  },
  {
   "cell_type": "markdown",
   "metadata": {},
   "source": [
    "<h3>(Struktur rekken)Data Description, Analysis, Results, Conclusion</h3>"
   ]
  },
  {
   "cell_type": "markdown",
   "metadata": {},
   "source": [
    "##Intorduction"
   ]
  },
  {
   "cell_type": "markdown",
   "metadata": {},
   "source": [
    "##Data collection and description"
   ]
  },
  {
   "cell_type": "markdown",
   "metadata": {},
   "source": [
    "##Load necessary libraries"
   ]
  },
  {
   "cell_type": "code",
   "execution_count": 1,
   "metadata": {},
   "outputs": [],
   "source": [
    "import pandas as pd\n",
    "import seaborn as sns\n",
    "import matplotlib.pyplot as plt"
   ]
  },
  {
   "cell_type": "code",
   "execution_count": 3,
   "metadata": {},
   "outputs": [
    {
     "data": {
      "text/html": [
       "<div>\n",
       "<style scoped>\n",
       "    .dataframe tbody tr th:only-of-type {\n",
       "        vertical-align: middle;\n",
       "    }\n",
       "\n",
       "    .dataframe tbody tr th {\n",
       "        vertical-align: top;\n",
       "    }\n",
       "\n",
       "    .dataframe thead th {\n",
       "        text-align: right;\n",
       "    }\n",
       "</style>\n",
       "<table border=\"1\" class=\"dataframe\">\n",
       "  <thead>\n",
       "    <tr style=\"text-align: right;\">\n",
       "      <th></th>\n",
       "      <th>Happiness</th>\n",
       "      <th>Fear of Missing Out</th>\n",
       "      <th>Nevrotik</th>\n",
       "      <th>Conscientiousnes</th>\n",
       "      <th>Openness</th>\n",
       "      <th>Agreeableness</th>\n",
       "      <th>Honesty</th>\n",
       "      <th>Smartphone Addiction</th>\n",
       "      <th>Gaming Addiction</th>\n",
       "      <th>Social Media Tolerance</th>\n",
       "      <th>Social Media Compulsion</th>\n",
       "      <th>Social Media Procrastination</th>\n",
       "      <th>Social Media Information Seeking</th>\n",
       "      <th>Target</th>\n",
       "    </tr>\n",
       "  </thead>\n",
       "  <tbody>\n",
       "    <tr>\n",
       "      <th>0</th>\n",
       "      <td>2.48</td>\n",
       "      <td>3.05</td>\n",
       "      <td>4.4</td>\n",
       "      <td>1.2</td>\n",
       "      <td>4.0</td>\n",
       "      <td>3.2</td>\n",
       "      <td>2.2</td>\n",
       "      <td>3.03</td>\n",
       "      <td>4.67</td>\n",
       "      <td>3.0</td>\n",
       "      <td>3.00</td>\n",
       "      <td>3.22</td>\n",
       "      <td>3.50</td>\n",
       "      <td>0</td>\n",
       "    </tr>\n",
       "    <tr>\n",
       "      <th>1</th>\n",
       "      <td>3.86</td>\n",
       "      <td>2.82</td>\n",
       "      <td>3.4</td>\n",
       "      <td>5.0</td>\n",
       "      <td>5.0</td>\n",
       "      <td>3.8</td>\n",
       "      <td>4.2</td>\n",
       "      <td>2.58</td>\n",
       "      <td>1.22</td>\n",
       "      <td>3.2</td>\n",
       "      <td>2.78</td>\n",
       "      <td>1.89</td>\n",
       "      <td>3.50</td>\n",
       "      <td>1</td>\n",
       "    </tr>\n",
       "    <tr>\n",
       "      <th>2</th>\n",
       "      <td>3.29</td>\n",
       "      <td>1.50</td>\n",
       "      <td>3.4</td>\n",
       "      <td>3.6</td>\n",
       "      <td>3.2</td>\n",
       "      <td>4.0</td>\n",
       "      <td>3.8</td>\n",
       "      <td>1.21</td>\n",
       "      <td>0.00</td>\n",
       "      <td>1.8</td>\n",
       "      <td>1.33</td>\n",
       "      <td>1.00</td>\n",
       "      <td>1.83</td>\n",
       "      <td>1</td>\n",
       "    </tr>\n",
       "    <tr>\n",
       "      <th>3</th>\n",
       "      <td>3.82</td>\n",
       "      <td>3.23</td>\n",
       "      <td>1.6</td>\n",
       "      <td>5.0</td>\n",
       "      <td>4.6</td>\n",
       "      <td>4.6</td>\n",
       "      <td>4.6</td>\n",
       "      <td>4.30</td>\n",
       "      <td>0.00</td>\n",
       "      <td>5.0</td>\n",
       "      <td>4.67</td>\n",
       "      <td>4.00</td>\n",
       "      <td>3.67</td>\n",
       "      <td>1</td>\n",
       "    </tr>\n",
       "    <tr>\n",
       "      <th>4</th>\n",
       "      <td>3.77</td>\n",
       "      <td>2.86</td>\n",
       "      <td>2.0</td>\n",
       "      <td>4.0</td>\n",
       "      <td>5.0</td>\n",
       "      <td>3.0</td>\n",
       "      <td>3.8</td>\n",
       "      <td>2.00</td>\n",
       "      <td>1.78</td>\n",
       "      <td>2.2</td>\n",
       "      <td>2.44</td>\n",
       "      <td>2.56</td>\n",
       "      <td>2.33</td>\n",
       "      <td>1</td>\n",
       "    </tr>\n",
       "  </tbody>\n",
       "</table>\n",
       "</div>"
      ],
      "text/plain": [
       "   Happiness  Fear of Missing Out  Nevrotik  Conscientiousnes  Openness  \\\n",
       "0       2.48                 3.05       4.4               1.2       4.0   \n",
       "1       3.86                 2.82       3.4               5.0       5.0   \n",
       "2       3.29                 1.50       3.4               3.6       3.2   \n",
       "3       3.82                 3.23       1.6               5.0       4.6   \n",
       "4       3.77                 2.86       2.0               4.0       5.0   \n",
       "\n",
       "   Agreeableness  Honesty  Smartphone Addiction  Gaming Addiction  \\\n",
       "0            3.2      2.2                  3.03              4.67   \n",
       "1            3.8      4.2                  2.58              1.22   \n",
       "2            4.0      3.8                  1.21              0.00   \n",
       "3            4.6      4.6                  4.30              0.00   \n",
       "4            3.0      3.8                  2.00              1.78   \n",
       "\n",
       "   Social Media Tolerance  Social Media Compulsion  \\\n",
       "0                     3.0                     3.00   \n",
       "1                     3.2                     2.78   \n",
       "2                     1.8                     1.33   \n",
       "3                     5.0                     4.67   \n",
       "4                     2.2                     2.44   \n",
       "\n",
       "   Social Media Procrastination  Social Media Information Seeking  Target  \n",
       "0                          3.22                              3.50       0  \n",
       "1                          1.89                              3.50       1  \n",
       "2                          1.00                              1.83       1  \n",
       "3                          4.00                              3.67       1  \n",
       "4                          2.56                              2.33       1  "
      ]
     },
     "execution_count": 3,
     "metadata": {},
     "output_type": "execute_result"
    }
   ],
   "source": [
    "# Load the dataset\n",
    "df = pd.read_csv('mental_health_and_technology_usage_2024.csv')\n",
    "df.head()  # Display the first few rows of the dataset"
   ]
  },
  {
   "cell_type": "markdown",
   "metadata": {},
   "source": [
    "#Checking missing values"
   ]
  },
  {
   "cell_type": "code",
   "execution_count": null,
   "metadata": {},
   "outputs": [
    {
     "name": "stdout",
     "output_type": "stream",
     "text": [
      "<class 'pandas.core.frame.DataFrame'>\n",
      "RangeIndex: 497 entries, 0 to 496\n",
      "Data columns (total 14 columns):\n",
      " #   Column                            Non-Null Count  Dtype  \n",
      "---  ------                            --------------  -----  \n",
      " 0   Happiness                         497 non-null    float64\n",
      " 1   Fear of Missing Out               497 non-null    float64\n",
      " 2   Nevrotik                          497 non-null    float64\n",
      " 3   Conscientiousnes                  497 non-null    float64\n",
      " 4   Openness                          497 non-null    float64\n",
      " 5   Agreeableness                     497 non-null    float64\n",
      " 6   Honesty                           497 non-null    float64\n",
      " 7   Smartphone Addiction              497 non-null    float64\n",
      " 8   Gaming Addiction                  497 non-null    float64\n",
      " 9   Social Media Tolerance            497 non-null    float64\n",
      " 10  Social Media Compulsion           497 non-null    float64\n",
      " 11  Social Media Procrastination      497 non-null    float64\n",
      " 12  Social Media Information Seeking  497 non-null    float64\n",
      " 13  Target                            497 non-null    int64  \n",
      "dtypes: float64(13), int64(1)\n",
      "memory usage: 54.5 KB\n"
     ]
    }
   ],
   "source": [
    "# Check for null values in the entire DataFrame\n",
    "df.isnull().sum()\n",
    "# Get a concise summary of the DataFrame, including null counts\n",
    "df.info()"
   ]
  },
  {
   "cell_type": "markdown",
   "metadata": {},
   "source": [
    "##Visualistation and Ouput"
   ]
  },
  {
   "cell_type": "markdown",
   "metadata": {},
   "source": [
    "##Data analysis"
   ]
  },
  {
   "cell_type": "markdown",
   "metadata": {},
   "source": [
    "##Conclusion and recommendations"
   ]
  },
  {
   "cell_type": "markdown",
   "metadata": {},
   "source": []
  }
 ],
 "metadata": {
  "kernelspec": {
   "display_name": "base",
   "language": "python",
   "name": "python3"
  },
  "language_info": {
   "codemirror_mode": {
    "name": "ipython",
    "version": 3
   },
   "file_extension": ".py",
   "mimetype": "text/x-python",
   "name": "python",
   "nbconvert_exporter": "python",
   "pygments_lexer": "ipython3",
   "version": "3.12.3"
  }
 },
 "nbformat": 4,
 "nbformat_minor": 2
}
